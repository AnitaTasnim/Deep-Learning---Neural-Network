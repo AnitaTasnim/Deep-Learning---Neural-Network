{
  "cells": [
    {
      "cell_type": "code",
      "execution_count": 1,
      "id": "dbcbee29-c607-4ae6-bc3b-6a1e02696842",
      "metadata": {
        "id": "dbcbee29-c607-4ae6-bc3b-6a1e02696842"
      },
      "outputs": [],
      "source": [
        "# 1. Input Layer -- CNN / Dense Layer / Convulated Layer\n",
        "#     i. ReLU layer\n",
        "#     ii. Pooling Layer\n",
        "    #     iii. Upsampling\n",
        "\n",
        "#     i. batchNormalization\n",
        "#     ii. Dropout Layer\n",
        "\n",
        "\n",
        "# 2. Hidden layer -- NN\n",
        "# 3. Output Layer -- FCNN"
      ]
    },
    {
      "cell_type": "code",
      "execution_count": 2,
      "id": "b9f36686-b284-40f9-a05e-85b424e2df45",
      "metadata": {
        "id": "b9f36686-b284-40f9-a05e-85b424e2df45"
      },
      "outputs": [],
      "source": [
        "# 1. Tensorflow\n",
        "# 2. Pytroch\n",
        "# 3. MaxNet\n",
        "\n",
        "# 1. Numpy\n",
        "# 2. Pandas\n",
        "# 3. Pillow\n",
        "# 4. OpenCV\n",
        "# 5. Scikit Learn\n",
        "\n",
        "\n",
        "# i. Plotly\n",
        "# ii. matplotlib\n",
        "# iii. Seaborn\n",
        "\n",
        "# iv. D3.js\n",
        "\n",
        "# 6. NLTK"
      ]
    },
    {
      "cell_type": "markdown",
      "id": "a38644ca-75f3-43cb-a502-23aaee2c91bb",
      "metadata": {
        "id": "a38644ca-75f3-43cb-a502-23aaee2c91bb"
      },
      "source": [
        "<h4> <code>Importing Library</code></h4>\n",
        "\n",
        "\n",
        "``` python\n",
        "\n",
        "for i in range(10):\n",
        "    print(i)\n",
        "print(\"This is For Loop\")\n",
        "\n",
        "```"
      ]
    },
    {
      "cell_type": "code",
      "execution_count": 3,
      "id": "0225f8b2-b968-4c71-9d1c-42ba4e0aeb43",
      "metadata": {
        "id": "0225f8b2-b968-4c71-9d1c-42ba4e0aeb43"
      },
      "outputs": [],
      "source": [
        "# This section for model \n",
        "import tensorflow as tf\n",
        "# This section for algebric analysis\n",
        "import numpy as np\n",
        "# This section for visualization\n",
        "import matplotlib.pyplot as plt\n",
        "\n",
        "import warnings\n",
        "warnings.filterwarnings('ignore')\n",
        "%matplotlib inline"
      ]
    },
    {
      "cell_type": "code",
      "execution_count": 4,
      "id": "5719a725-c555-4b03-afe4-c107a6afabcf",
      "metadata": {
        "id": "5719a725-c555-4b03-afe4-c107a6afabcf"
      },
      "outputs": [],
      "source": [
        "# help(warnings.filterwarnings)"
      ]
    },
    {
      "cell_type": "code",
      "execution_count": 5,
      "id": "a0099cff-0c2a-49da-b3f9-c15f669f6847",
      "metadata": {
        "id": "a0099cff-0c2a-49da-b3f9-c15f669f6847"
      },
      "outputs": [],
      "source": [
        "# value = dict({\"product_price1\" : 10,\n",
        "#          \"product_price2\" :100})"
      ]
    },
    {
      "cell_type": "code",
      "execution_count": 6,
      "id": "6a9ed9f5-1386-44d6-9858-8e185579defc",
      "metadata": {
        "id": "6a9ed9f5-1386-44d6-9858-8e185579defc"
      },
      "outputs": [],
      "source": [
        "# 1. Random: import random as rnd\n",
        "# 2. Numpy; import numpy.random as npr\n",
        "# 3. Tensorflow: import tensorflow.random"
      ]
    },
    {
      "cell_type": "code",
      "execution_count": 7,
      "id": "fcf49830-98fa-4743-9a15-6023f869191d",
      "metadata": {
        "id": "fcf49830-98fa-4743-9a15-6023f869191d"
      },
      "outputs": [],
      "source": [
        "class NeuralNetwork:\n",
        "    def __init__(self, layers):\n",
        "        self.layers = layers\n",
        "        self.L = len(layers)\n",
        "        \n",
        "        self.number_feature = layers[0] #1st layer --> input layer which contain number of features .\n",
        "        self.number_class = layers[-1]  # last  layer --> output layer which contain number of class\n",
        "        \n",
        "        self.W = {}\n",
        "        self.b = {}\n",
        "        \n",
        "        self.dw = {}\n",
        "        self.db = {}\n",
        "        \n",
        "        self.setup()\n",
        "    \n",
        "    def setup(self):\n",
        "        for i in range(1, self.L):  # starting from 1 --> means excluding input layer.\n",
        "            self.W[i] = tf.Variable(tf.random.normal(shape = (self.layers[i], self.layers[i-1])))\n",
        "            self.b[i] = tf.Variable(tf.random.normal(shape = (self.layers[i], 1)))\n",
        "            #https://www.youtube.com/watch?v=f2XeQO9zz5g"
      ]
    },
    {
      "cell_type": "code",
      "source": [
        "tf_test1 = tf.random.normal(shape =(5,4))\n",
        "tf_test1"
      ],
      "metadata": {
        "colab": {
          "base_uri": "https://localhost:8080/"
        },
        "id": "-KJpLCHZSpBi",
        "outputId": "77255122-e96a-4d7c-a11a-d556e34dcc9e"
      },
      "id": "-KJpLCHZSpBi",
      "execution_count": 8,
      "outputs": [
        {
          "output_type": "execute_result",
          "data": {
            "text/plain": [
              "<tf.Tensor: shape=(5, 4), dtype=float32, numpy=\n",
              "array([[ 0.5701197 ,  0.734655  , -1.5433662 ,  0.64486474],\n",
              "       [ 0.8350151 ,  0.6646004 , -0.7111843 ,  1.6397675 ],\n",
              "       [-1.3905807 ,  0.23361489, -0.7605132 ,  0.45603532],\n",
              "       [-1.2408183 , -1.0022004 , -0.53665453, -0.9406085 ],\n",
              "       [-0.9778573 , -0.77870256, -1.178599  ,  0.17997819]],\n",
              "      dtype=float32)>"
            ]
          },
          "metadata": {},
          "execution_count": 8
        }
      ]
    },
    {
      "cell_type": "markdown",
      "source": [
        "\n",
        "In TensorFlow, tf.random.normal is a function that generates random values from a normal distribution. It takes the shape of the desired tensor as an argument and returns a tensor with random values drawn from the specified distribution.\n",
        "\n",
        "When initializing the weights of a neural network, it is common to use random values to break the symmetry and ensure that each neuron learns different features. In this case, tf.random.normal generates random values from a normal distribution, which is a common choice for weight initialization.\n",
        "\n",
        "However, just using tf.random.normal(shape=(self.layers[i], self.layers[i-1])) directly would only generate the random values once, and those values would remain fixed throughout the training process. This means that every time you run your model, it would have the same initial weights, which could limit the model's ability to learn and generalize well.\n",
        "\n",
        "By wrapping the tf.random.normal call inside a tf.Variable function, you create a TensorFlow variable object. TensorFlow variables are mutable and can be updated during training through backpropagation. This means that the initial random weights will be adjusted and optimized based on the training data.\n",
        "\n",
        "In summary, using tf.Variable(tf.random.normal(shape=(self.layers[i], self.layers[i-1]))) allows the weights to be trainable variables that can be updated during the training process, while using tf.random.normal alone would generate fixed random values that cannot be optimized."
      ],
      "metadata": {
        "id": "OuMrCIoqYstY"
      },
      "id": "OuMrCIoqYstY"
    },
    {
      "cell_type": "code",
      "source": [
        "tf_test1 = tf.random.normal(shape =(5,4))\n",
        "print(tf_test1)\n",
        "\n",
        "tf_test1"
      ],
      "metadata": {
        "colab": {
          "base_uri": "https://localhost:8080/"
        },
        "id": "RTXQW7VfUZI4",
        "outputId": "3eb11279-cab2-41bd-a77b-18a5c4ab6d7e"
      },
      "id": "RTXQW7VfUZI4",
      "execution_count": 9,
      "outputs": [
        {
          "output_type": "stream",
          "name": "stdout",
          "text": [
            "tf.Tensor(\n",
            "[[ 0.46636936  0.5464928  -0.8455858   2.0930622 ]\n",
            " [ 0.33592987 -0.16007     0.28355238 -0.9253378 ]\n",
            " [ 0.8628007   0.22461192 -1.4170283   1.4866781 ]\n",
            " [-0.9365028   0.81116843  1.3325727   0.48442033]\n",
            " [ 0.41550353 -0.9005528  -0.16104273  1.0513816 ]], shape=(5, 4), dtype=float32)\n"
          ]
        },
        {
          "output_type": "execute_result",
          "data": {
            "text/plain": [
              "<tf.Tensor: shape=(5, 4), dtype=float32, numpy=\n",
              "array([[ 0.46636936,  0.5464928 , -0.8455858 ,  2.0930622 ],\n",
              "       [ 0.33592987, -0.16007   ,  0.28355238, -0.9253378 ],\n",
              "       [ 0.8628007 ,  0.22461192, -1.4170283 ,  1.4866781 ],\n",
              "       [-0.9365028 ,  0.81116843,  1.3325727 ,  0.48442033],\n",
              "       [ 0.41550353, -0.9005528 , -0.16104273,  1.0513816 ]],\n",
              "      dtype=float32)>"
            ]
          },
          "metadata": {},
          "execution_count": 9
        }
      ]
    },
    {
      "cell_type": "code",
      "source": [
        "tf_test1"
      ],
      "metadata": {
        "colab": {
          "base_uri": "https://localhost:8080/"
        },
        "id": "UTZOhUr0Wq-q",
        "outputId": "a5ef6480-a86e-4a48-fe5e-0d3abb7e32b4"
      },
      "id": "UTZOhUr0Wq-q",
      "execution_count": 10,
      "outputs": [
        {
          "output_type": "execute_result",
          "data": {
            "text/plain": [
              "<tf.Tensor: shape=(5, 4), dtype=float32, numpy=\n",
              "array([[ 0.46636936,  0.5464928 , -0.8455858 ,  2.0930622 ],\n",
              "       [ 0.33592987, -0.16007   ,  0.28355238, -0.9253378 ],\n",
              "       [ 0.8628007 ,  0.22461192, -1.4170283 ,  1.4866781 ],\n",
              "       [-0.9365028 ,  0.81116843,  1.3325727 ,  0.48442033],\n",
              "       [ 0.41550353, -0.9005528 , -0.16104273,  1.0513816 ]],\n",
              "      dtype=float32)>"
            ]
          },
          "metadata": {},
          "execution_count": 10
        }
      ]
    },
    {
      "cell_type": "code",
      "source": [],
      "metadata": {
        "id": "5H8S2o4dUZLb"
      },
      "id": "5H8S2o4dUZLb",
      "execution_count": 10,
      "outputs": []
    },
    {
      "cell_type": "code",
      "source": [
        "tf_var_test1 = tf.Variable(tf.random.normal(shape =(5,4)))\n",
        "print(tf_var_test1)"
      ],
      "metadata": {
        "colab": {
          "base_uri": "https://localhost:8080/"
        },
        "id": "IooC6w6RS55W",
        "outputId": "bdbd691f-2538-4e91-c614-22223b5e8355"
      },
      "id": "IooC6w6RS55W",
      "execution_count": 11,
      "outputs": [
        {
          "output_type": "stream",
          "name": "stdout",
          "text": [
            "<tf.Variable 'Variable:0' shape=(5, 4) dtype=float32, numpy=\n",
            "array([[ 1.2326028 ,  1.7693336 ,  1.4069145 , -0.01120733],\n",
            "       [-0.00767345, -0.8049907 ,  0.02885542,  0.8942153 ],\n",
            "       [ 0.10200084, -1.2533019 , -1.0208926 ,  0.99893403],\n",
            "       [ 1.3369433 ,  0.4435176 ,  1.221152  , -0.976061  ],\n",
            "       [ 0.0209658 , -1.828335  ,  0.45601094, -0.74310756]],\n",
            "      dtype=float32)>\n"
          ]
        }
      ]
    },
    {
      "cell_type": "code",
      "source": [
        "tf_var_test1"
      ],
      "metadata": {
        "colab": {
          "base_uri": "https://localhost:8080/"
        },
        "id": "9dgHAZ15Wx4-",
        "outputId": "286aa58f-f03e-4817-a9d1-59ca8998c483"
      },
      "id": "9dgHAZ15Wx4-",
      "execution_count": 12,
      "outputs": [
        {
          "output_type": "execute_result",
          "data": {
            "text/plain": [
              "<tf.Variable 'Variable:0' shape=(5, 4) dtype=float32, numpy=\n",
              "array([[ 1.2326028 ,  1.7693336 ,  1.4069145 , -0.01120733],\n",
              "       [-0.00767345, -0.8049907 ,  0.02885542,  0.8942153 ],\n",
              "       [ 0.10200084, -1.2533019 , -1.0208926 ,  0.99893403],\n",
              "       [ 1.3369433 ,  0.4435176 ,  1.221152  , -0.976061  ],\n",
              "       [ 0.0209658 , -1.828335  ,  0.45601094, -0.74310756]],\n",
              "      dtype=float32)>"
            ]
          },
          "metadata": {},
          "execution_count": 12
        }
      ]
    },
    {
      "cell_type": "markdown",
      "source": [
        "```python\n",
        "Here's a summary of the concepts we discussed:\n",
        "\n",
        "Classes: Classes are blueprints or templates in object-oriented programming that define the properties (attributes) and behaviors (methods) of objects.\n",
        "\n",
        "__init__ Method: __init__ is a special method called the constructor. It is automatically invoked when you create a new instance (object) of a class. It initializes the object's attributes or performs setup operations.\n",
        "\n",
        "Instance: An instance refers to a specific occurrence or individual occurrence of a class. It is an object created from a class and represents a unique entity with its own set of attributes and behaviors.\n",
        "\n",
        "Attributes: Attributes are variables associated with an instance of a class. They store data specific to that instance.\n",
        "\n",
        "self: self is a reference to the instance of the class itself. It is used within the class to access and modify its own attributes and methods.\n",
        "\n",
        "Example: In the context of a NeuralNetwork class, you can create instances of neural networks with different layer configurations. Each instance will have its own layers attribute and the __init__ method will initialize the object with the provided layers.\n",
        "\n",
        "Example code snippet:\n",
        "\n",
        "python\n",
        "Copy code\n",
        "class NeuralNetwork:\n",
        "    def __init__(self, layers):\n",
        "        self.layers = layers\n",
        "\n",
        "# Create instances of the NeuralNetwork class\n",
        "network1 = NeuralNetwork([3, 5, 2])\n",
        "network2 = NeuralNetwork([4, 6, 3])\n",
        "\n",
        "print(network1.layers)  # Output: [3, 5, 2]\n",
        "print(network2.layers)  # Output: [4, 6, 3]\n",
        "\n",
        "```"
      ],
      "metadata": {
        "id": "uv7haL1HRn9i"
      },
      "id": "uv7haL1HRn9i"
    },
    {
      "cell_type": "code",
      "execution_count": 13,
      "id": "86d5acd4-ac7f-4f70-9a47-a42f2701bfcc",
      "metadata": {
        "id": "86d5acd4-ac7f-4f70-9a47-a42f2701bfcc"
      },
      "outputs": [],
      "source": [
        "# 1. dtype=\"float32\"\n",
        "# 2. dtype=np.float32\n",
        "# 3. dtype=tf.float32\n",
        "# 4. dtype=torch.float32"
      ]
    },
    {
      "cell_type": "markdown",
      "source": [
        "In the given code snippet, the line A = tf.convert_to_tensor(A, dtype=tf.float32) converts the input dataset A into a TensorFlow tensor with the data type set to float32. This step is necessary to ensure consistency and compatibility with the subsequent computations performed in the forward pass.\n",
        "\n",
        "There are a few reasons why specifying the data type can be important:\n",
        "\n",
        "Numerical precision: Different data types have different levels of numerical precision. For example, float32 uses 32 bits to represent a floating-point number, whereas float16 uses 16 bits. By default, TensorFlow uses float32 as the standard data type, which provides a good balance between precision and memory usage. If you don't explicitly specify the data type, TensorFlow will use the default float32.\n",
        "\n",
        "Computation performance: TensorFlow can optimize computations based on the specified data type. For example, some hardware accelerators, such as GPUs, are more efficient when working with certain data types. By specifying the data type, you allow TensorFlow to leverage these optimizations and potentially improve the performance of your forward pass.\n",
        "\n",
        "Consistency with other layers: When building a neural network, it is important to ensure that the data types of inputs and weights are consistent across different layers. Specifying the data type explicitly helps enforce this consistency and prevents potential errors or inconsistencies in the computations.\n",
        "\n",
        "In summary, specifying the data type, such as float32, in the forward pass ensures numerical precision, computational performance, and consistency in the computations performed by the neural network."
      ],
      "metadata": {
        "id": "RKZ8tjm_daa0"
      },
      "id": "RKZ8tjm_daa0"
    },
    {
      "cell_type": "code",
      "execution_count": 14,
      "id": "b1cac648-d75a-42be-8000-1a44f6cd5608",
      "metadata": {
        "id": "b1cac648-d75a-42be-8000-1a44f6cd5608"
      },
      "outputs": [],
      "source": [
        "# Forward propagation\n",
        "\n",
        "class NeuralNetwork(NeuralNetwork):\n",
        "    def forwardPass(self, A):\n",
        "        A = tf.convert_to_tensor(A, dtype=tf.float32)\n",
        "        for i in range(1, self.L):\n",
        "            Z = tf.matmul(A, tf.transpose(self.W[i]))+ tf.transpose(self.b[i])  ##The tf.matmul function performs matrix multiplication between these two matrices A, tf.transpose(self.W[i])\n",
        "            if i!= self.L-1: #exclding output layer\n",
        "                A = tf.nn.relu(Z)\n",
        "            else:\n",
        "                A = Z\n",
        "        return A"
      ]
    },
    {
      "cell_type": "markdown",
      "source": [
        "```python\n",
        "for i in range(1, self.L):\n",
        "            Z = tf.matmul(A, tf.transpose(self.W[i])) + tf.transpose(self.b[i])\n",
        "            if i!= self.L-1: #exclding output layer\n",
        "                A = tf.nn.relu(Z)\n",
        "            else:\n",
        "                A = Z\n",
        "\n",
        "\n",
        "\n",
        "here  else:\n",
        "                A = Z will executed only when the output layer comes , right??\n",
        "ChatGPT\n",
        "Yes, you are correct. In the provided code snippet, the line A = Z inside the else statement will only be executed when the loop variable i reaches the value of self.L - 1, which corresponds to the output layer.\n",
        "\n",
        "```"
      ],
      "metadata": {
        "id": "5wKdiFvcekRb"
      },
      "id": "5wKdiFvcekRb"
    },
    {
      "cell_type": "code",
      "execution_count": 15,
      "id": "da6324d6-23f4-4a14-ba9a-5d5d6866cff2",
      "metadata": {
        "colab": {
          "base_uri": "https://localhost:8080/"
        },
        "id": "da6324d6-23f4-4a14-ba9a-5d5d6866cff2",
        "outputId": "a4ea7fc3-9ef7-4c00-fe56-e874e2ef3c07"
      },
      "outputs": [
        {
          "output_type": "execute_result",
          "data": {
            "text/plain": [
              "4.0"
            ]
          },
          "metadata": {},
          "execution_count": 15
        }
      ],
      "source": [
        "(3+ 4+ 5)/(3)"
      ]
    },
    {
      "cell_type": "code",
      "execution_count": 16,
      "id": "df350a65-c9f6-4e44-bb74-cbf66da735b0",
      "metadata": {
        "id": "df350a65-c9f6-4e44-bb74-cbf66da735b0"
      },
      "outputs": [],
      "source": [
        "# We will use this section for computing loss and Upgrading the previous parameters\n",
        "class NeuralNetwork(NeuralNetwork):\n",
        "    def compute_loss(self, A, Y):\n",
        "        return tf.reduce_mean(tf.nn.softmax_cross_entropy_with_logits(Y, A)) # it will return an tensor value\n",
        "        #The function softmax_cross_entropy_with_logits(Y, A) in TensorFlow calculates \n",
        "        # the softmax cross-entropy loss between the predicted logits A and the true labels Y.\n",
        "        # This function is commonly used in multi-class classification tasks, where each input can belong to only one class.\n",
        "    \n",
        "    def upgarde_parameters(self, lr):\n",
        "        for j in range(1, self.L):\n",
        "            self.W[j].assign_sub(lr*self.dw[j])\n",
        "            self.b[j].assign_sub(lr*self.db[j])"
      ]
    },
    {
      "cell_type": "markdown",
      "source": [
        "Yes, that's correct. The expression tf.reduce_mean(tf.nn.softmax_cross_entropy_with_logits(Y, A)) will return a single scalar value.\n",
        "\n",
        "The tf.reduce_mean function takes a tensor as input and computes the mean value of its elements. In this case, the input tensor is the result of tf.nn.softmax_cross_entropy_with_logits(Y, A), which calculates the softmax cross-entropy loss between the predicted logits A and the true labels Y.\n",
        "\n",
        "The tf.nn.softmax_cross_entropy_with_logits function returns a tensor of individual loss values, typically one loss value per example in the batch. These individual loss values represent the dissimilarity between the predicted probabilities and the true labels for each example.\n",
        "\n",
        "By applying tf.reduce_mean to the tensor of individual loss values, the function calculates the average loss across all examples in the batch. The output of tf.reduce_mean is a single scalar value that represents the mean loss value across the entire batch.\n",
        "\n",
        "This average loss value is often used as a metric to evaluate the performance of the model during training or validation. It provides a single value that indicates how well the model is fitting the training data or generalizing to new data.\n",
        "\n",
        "So, to summarize, the expression tf.reduce_mean(tf.nn.softmax_cross_entropy_with_logits(Y, A)) returns a single scalar value, representing the average loss across all examples in the batch.\n",
        "\n",
        "\n",
        "\n",
        "\n"
      ],
      "metadata": {
        "id": "v3bY2NRZg22f"
      },
      "id": "v3bY2NRZg22f"
    },
    {
      "cell_type": "code",
      "execution_count": 17,
      "id": "88f2f38f-1b58-4380-9ec0-3f1abf2166e4",
      "metadata": {
        "colab": {
          "base_uri": "https://localhost:8080/"
        },
        "id": "88f2f38f-1b58-4380-9ec0-3f1abf2166e4",
        "outputId": "111ad802-6f82-4ecb-ccc5-59ee867cec18"
      },
      "outputs": [
        {
          "output_type": "execute_result",
          "data": {
            "text/plain": [
              "0"
            ]
          },
          "metadata": {},
          "execution_count": 17
        }
      ],
      "source": [
        "# 0 index --> cats\n",
        "# 1 index --> dogs\n",
        "np.argmax([0.12, 0.09])"
      ]
    },
    {
      "cell_type": "markdown",
      "id": "ccc21a24-a692-420a-89c3-912d7774e484",
      "metadata": {
        "id": "ccc21a24-a692-420a-89c3-912d7774e484"
      },
      "source": [
        "![image.png](attachment:952c6216-d3df-4692-99f5-d553399d85b8.png)"
      ]
    },
    {
      "cell_type": "code",
      "execution_count": 18,
      "id": "5ac74d1a-f204-4c65-a7a8-de21e1318c66",
      "metadata": {
        "id": "5ac74d1a-f204-4c65-a7a8-de21e1318c66"
      },
      "outputs": [],
      "source": [
        "class NeuralNetwork(NeuralNetwork):\n",
        "    def predict(self, x):\n",
        "        A = self.forwardPass(x)\n",
        "        return tf.argmax(tf.nn.softmax(A), axis = 1)\n",
        "    \n",
        "\n",
        "    #get information about our network and layers\n",
        "    def info(self):\n",
        "        num_params = 0\n",
        "        for i in range(1, self.L):\n",
        "          #parameters --> weughts and biases\n",
        "          #to calculate total number of weights and biases\n",
        "            num_params += self.W[i].shape[0] * self.W[i].shape[1]\n",
        "            num_params += self.b[i].shape[0]\n",
        "            \n",
        "        print(\"Number of Feaure: {}\".format(self.number_feature))\n",
        "        print(\"Total Number of Class is: {} \".format(self.number_class))\n",
        "        \n",
        "        print(\"Hidden Layer information is: \")\n",
        "        for j in range(1, self.L -1):\n",
        "            print(\"Layer: {}, Units {}\".format(j, self.layers[j])) #Units means nodes\n",
        "            \n",
        "        print(\"Total Number of parameters : {}\".format(num_params))"
      ]
    },
    {
      "cell_type": "code",
      "execution_count": 19,
      "id": "6f493b54-4d7b-431b-a6a0-e93512e43438",
      "metadata": {
        "id": "6f493b54-4d7b-431b-a6a0-e93512e43438"
      },
      "outputs": [],
      "source": [
        "# history = model.fit()"
      ]
    },
    {
      "cell_type": "markdown",
      "id": "3954c848-28f6-45bc-bd16-25496c2f87aa",
      "metadata": {
        "id": "3954c848-28f6-45bc-bd16-25496c2f87aa"
      },
      "source": [
        "![image.png](attachment:367fa0ce-a311-451d-901c-95005f7e4995.png)"
      ]
    },
    {
      "cell_type": "markdown",
      "source": [
        "In TensorFlow, the GradientTape is a fundamental tool for automatic differentiation. It records operations that are executed within its context, enabling the computation of gradients later on. Gradients are essential for training neural networks because they indicate the direction and magnitude of adjustments needed to minimize the loss function."
      ],
      "metadata": {
        "id": "7hhJJdQFmbti"
      },
      "id": "7hhJJdQFmbti"
    },
    {
      "cell_type": "code",
      "execution_count": 20,
      "id": "fca8dc6b-b5a4-4f56-9c90-8ef060dabe39",
      "metadata": {
        "id": "fca8dc6b-b5a4-4f56-9c90-8ef060dabe39"
      },
      "outputs": [],
      "source": [
        "class NeuralNetwork(NeuralNetwork):\n",
        "  #training on a single batch of data\n",
        "\n",
        "    def training_on_batch(self, x, y, lr):\n",
        "        x = tf.convert_to_tensor(x, dtype=tf.float32)\n",
        "        y = tf.convert_to_tensor(y, dtype=tf.float32)\n",
        "        #When you create a GradientTape object, it starts to \"watch\" any TensorFlow operations that are executed within its context.\n",
        "        \n",
        "        with tf.GradientTape(persistent=True) as tape:\n",
        "          #You perform forward propagation by calling operations on TensorFlow tensors within the GradientTape context. In your code, this is done by calling self.forwardPass(x) to compute the output A of the neural network for a given input x.\n",
        "            \n",
        "            A = self.forwardPass(x)\n",
        "          #Any operations involving TensorFlow tensors within the GradientTape context are recorded by the tape, creating a computational graph.\n",
        "\n",
        "          #Next, you compute the loss by calling self.compute_loss(A, y). This operation involves TensorFlow tensors as well and is recorded by the tape.\n",
        "            loss = self.compute_loss(A, y)\n",
        "            #print('loss      -----   ',loss)\n",
        "            \n",
        "\n",
        "        #After the loss is computed, you can retrieve the gradients of the loss with respect to the trainable parameters (weights and biases) of your model. This is done using the tape.gradient(loss, variable) method, where loss is the value to differentiate and variable is the variable with respect to which the gradient is computed\n",
        "        for key in self.W.keys():\n",
        "            self.dw[key] = tape.gradient(loss, self.W[key])\n",
        "            self.db[key] = tape.gradient(loss, self.b[key])\n",
        "            \n",
        "        del tape\n",
        "        #The GradientTape is deleted to free up resources.\n",
        "        \n",
        "        self.upgarde_parameters(lr)\n",
        "        \n",
        "        return loss.numpy()"
      ]
    },
    {
      "cell_type": "markdown",
      "source": [
        ", if you have 1000 epochs and 10 batches defined, it means that during each epoch, all 10 batches will be executed."
      ],
      "metadata": {
        "id": "fgq1LA-_nbSJ"
      },
      "id": "fgq1LA-_nbSJ"
    },
    {
      "cell_type": "code",
      "execution_count": 21,
      "id": "1dd86afe-7f4e-42ad-a359-d6d838f88421",
      "metadata": {
        "id": "1dd86afe-7f4e-42ad-a359-d6d838f88421"
      },
      "outputs": [],
      "source": [
        "# Trining Start\n",
        "class NeuralNetwork(NeuralNetwork):\n",
        "    def train(self, x_train, y_train, x_test, y_test, epochs, step_per_epochs, batch_size, lr):\n",
        "        history = {\"val_loss\":[], \n",
        "                  'train_loss':[],\n",
        "                  'val_acc':[]}\n",
        "        \n",
        "        \n",
        "        for e in range(0, epochs):\n",
        "            epochs_loss_train = 0.0\n",
        "            print(\"Epochs {}\".format(e), end = \" | \") # e --> koto number epoch\n",
        "            for i in range(step_per_epochs): #The term \"steps per epoch\" refers to the number of batches processed within a single epoch during training.\n",
        "                \n",
        "                x_batch = x_train[i*batch_size : (i+1)*batch_size]\n",
        "                y_batch = y_train[i*batch_size : (i+1)*batch_size]\n",
        "                \n",
        "                batch_loss = self.training_on_batch(x_batch, y_batch, lr)\n",
        "                epochs_loss_train += batch_loss\n",
        "                \n",
        "                \n",
        "                if i %int(step_per_epochs/10) == 0:\n",
        "                    print(end = \" . \")\n",
        "                    \n",
        "            history['train_loss'].append(epochs_loss_train/step_per_epochs) #to calculate the average loss per epoch during training.\n",
        "\n",
        "\n",
        "            #These lines calculate the validation loss and accuracy after each epoch. The model's forwardPass method is used to obtain predictions (valA) for the x_test data. The validation loss is computed using the compute_loss method with y_test and valA. The validation accuracy is calculated by comparing the predicted labels (valuePr) with the true labels (y_test). \n",
        "            #The results are appended to history['val_loss'] and history['val_acc'], respectively. The accuracy value is printed for monitoring purposes\n",
        "            valA = self.forwardPass(x_test)\n",
        "            history['val_loss'].append(self.compute_loss(y_test, valA).numpy())\n",
        "\n",
        "            valuePr = self.predict(x_test)\n",
        "            history['val_acc'].append(np.mean(np.argmax(y_test, axis=1) == valuePr.numpy()))\n",
        "            print(\"Value Accuracy: \", history['val_acc'][-1])\n",
        "        \n",
        "        # Here we will get training innformation\n",
        "        return history"
      ]
    },
    {
      "cell_type": "markdown",
      "source": [
        "In the provided code, the validation accuracy is calculated, not the test accuracy. The lines:\n",
        "\n",
        "python\n",
        "Copy code\n",
        "valA = self.forwardPass(x_test)\n",
        "history['val_loss'].append(self.compute_loss(y_test, valA).numpy())\n",
        "\n",
        "valuePr = self.predict(x_test)\n",
        "history['val_acc'].append(np.mean(np.argmax(y_test, axis=1) == valuePr.numpy()))\n",
        "print(\"Value Accuracy: \", history['val_acc'][-1])\n",
        "calculate the validation loss (val_loss) and validation accuracy (val_acc) for the current epoch using the validation data (x_test and y_test). The accuracy is calculated by comparing the predicted labels (valuePr) with the true labels (y_test). The validation accuracy is printed for monitoring purposes."
      ],
      "metadata": {
        "id": "yCZoRaDmMrK3"
      },
      "id": "yCZoRaDmMrK3"
    },
    {
      "cell_type": "markdown",
      "source": [
        "```python\n",
        "\n",
        "\n",
        " It prints a dot (.) every 10% of steps completed within an epoch.\n",
        "\n",
        "Let's break down the code to understand its purpose:\n",
        "\n",
        "python\n",
        "Copy code\n",
        "if i % int(steps_per_epoch / 10) == 0:\n",
        "    print(end=\" . \")\n",
        "i represents the current step within an epoch.\n",
        "steps_per_epoch is the total number of steps or batches in an epoch.\n",
        "int(steps_per_epoch / 10) calculates 10% of the steps per epoch. The int() function ensures that the result is an integer.\n",
        "The condition i % int(steps_per_epoch / 10) == 0 checks if the current step is a multiple of 10% of the steps per epoch.\n",
        "Essentially, this code prints a dot every time the training progresses by 10% of steps within an epoch. It acts as a visual progress indicator for each epoch during training.\n",
        "\n",
        "For example, if you have 1000 steps (batches) per epoch, the code will print a dot at steps 0, 100, 200, ..., 900, indicating the progress made during the epoch.\n",
        "\n",
        "This progress indicator can be helpful to monitor the training process and get an idea of how far along the model is in each epoch. It provides a simple visual feedback to show that the training is ongoing.\n",
        "\n",
        "```"
      ],
      "metadata": {
        "id": "iYqoXJjXpWeS"
      },
      "id": "iYqoXJjXpWeS"
    },
    {
      "cell_type": "markdown",
      "source": [],
      "metadata": {
        "id": "RBLzabgDvgtD"
      },
      "id": "RBLzabgDvgtD"
    },
    {
      "cell_type": "code",
      "execution_count": 22,
      "id": "b6ba0610-a4b9-45f8-8863-a4ec0fdd68b3",
      "metadata": {
        "id": "b6ba0610-a4b9-45f8-8863-a4ec0fdd68b3"
      },
      "outputs": [],
      "source": [
        "# # a = np.array([1, 2, 3])\n",
        "# # b= np.array([1, 4, 3])\n",
        "# a == b"
      ]
    },
    {
      "cell_type": "code",
      "execution_count": 23,
      "id": "6f7bbfd9-9ce0-4ebb-a230-a70dd500b2ec",
      "metadata": {
        "id": "6f7bbfd9-9ce0-4ebb-a230-a70dd500b2ec"
      },
      "outputs": [],
      "source": [
        "# for i, j in enumerate(range(23, 67)):\n",
        "#     print(i, j)"
      ]
    },
    {
      "cell_type": "markdown",
      "source": [
        "A benchmark dataset, in the context of machine learning and artificial intelligence, refers to a standardized dataset that is widely used to evaluate and compare the performance of different algorithms and models. These datasets are often representative of real-world problems and are carefully curated to provide a fair and consistent basis for comparing different approaches."
      ],
      "metadata": {
        "id": "Hw-hJh5msLhh"
      },
      "id": "Hw-hJh5msLhh"
    },
    {
      "cell_type": "markdown",
      "source": [
        "The tf.keras.datasets.mnist.load_data() function is used to load the MNIST dataset, which is a popular benchmark dataset for handwritten digit recognition. MNIST stands for Modified National Institute of Standards and Technology database. It consists of a training set of 60,000 examples and a test set of 10,000 examples, where each example is a 28x28 grayscale image of a handwritten digit from 0 to 9."
      ],
      "metadata": {
        "id": "aob4q4jKtkM9"
      },
      "id": "aob4q4jKtkM9"
    },
    {
      "cell_type": "markdown",
      "source": [
        "Yes, in the MNIST dataset, each example refers to a single image of a handwritten digit."
      ],
      "metadata": {
        "id": "EsWVITJ4sMny"
      },
      "id": "EsWVITJ4sMny"
    },
    {
      "cell_type": "code",
      "source": [
        "(x_train, y_train), (x_test, y_test) = tf.keras.datasets.mnist.load_data()"
      ],
      "metadata": {
        "id": "HZnxgr1atu4v",
        "outputId": "6bfad13f-3cb4-4341-b0a9-8969ab32d967",
        "colab": {
          "base_uri": "https://localhost:8080/"
        }
      },
      "id": "HZnxgr1atu4v",
      "execution_count": 24,
      "outputs": [
        {
          "output_type": "stream",
          "name": "stdout",
          "text": [
            "Downloading data from https://storage.googleapis.com/tensorflow/tf-keras-datasets/mnist.npz\n",
            "11490434/11490434 [==============================] - 0s 0us/step\n"
          ]
        }
      ]
    },
    {
      "cell_type": "code",
      "source": [
        "x_train"
      ],
      "metadata": {
        "id": "ubKfWrZatw3B",
        "outputId": "b009a526-5058-4a15-d591-e5886b8f8b42",
        "colab": {
          "base_uri": "https://localhost:8080/"
        }
      },
      "id": "ubKfWrZatw3B",
      "execution_count": 25,
      "outputs": [
        {
          "output_type": "execute_result",
          "data": {
            "text/plain": [
              "array([[[0, 0, 0, ..., 0, 0, 0],\n",
              "        [0, 0, 0, ..., 0, 0, 0],\n",
              "        [0, 0, 0, ..., 0, 0, 0],\n",
              "        ...,\n",
              "        [0, 0, 0, ..., 0, 0, 0],\n",
              "        [0, 0, 0, ..., 0, 0, 0],\n",
              "        [0, 0, 0, ..., 0, 0, 0]],\n",
              "\n",
              "       [[0, 0, 0, ..., 0, 0, 0],\n",
              "        [0, 0, 0, ..., 0, 0, 0],\n",
              "        [0, 0, 0, ..., 0, 0, 0],\n",
              "        ...,\n",
              "        [0, 0, 0, ..., 0, 0, 0],\n",
              "        [0, 0, 0, ..., 0, 0, 0],\n",
              "        [0, 0, 0, ..., 0, 0, 0]],\n",
              "\n",
              "       [[0, 0, 0, ..., 0, 0, 0],\n",
              "        [0, 0, 0, ..., 0, 0, 0],\n",
              "        [0, 0, 0, ..., 0, 0, 0],\n",
              "        ...,\n",
              "        [0, 0, 0, ..., 0, 0, 0],\n",
              "        [0, 0, 0, ..., 0, 0, 0],\n",
              "        [0, 0, 0, ..., 0, 0, 0]],\n",
              "\n",
              "       ...,\n",
              "\n",
              "       [[0, 0, 0, ..., 0, 0, 0],\n",
              "        [0, 0, 0, ..., 0, 0, 0],\n",
              "        [0, 0, 0, ..., 0, 0, 0],\n",
              "        ...,\n",
              "        [0, 0, 0, ..., 0, 0, 0],\n",
              "        [0, 0, 0, ..., 0, 0, 0],\n",
              "        [0, 0, 0, ..., 0, 0, 0]],\n",
              "\n",
              "       [[0, 0, 0, ..., 0, 0, 0],\n",
              "        [0, 0, 0, ..., 0, 0, 0],\n",
              "        [0, 0, 0, ..., 0, 0, 0],\n",
              "        ...,\n",
              "        [0, 0, 0, ..., 0, 0, 0],\n",
              "        [0, 0, 0, ..., 0, 0, 0],\n",
              "        [0, 0, 0, ..., 0, 0, 0]],\n",
              "\n",
              "       [[0, 0, 0, ..., 0, 0, 0],\n",
              "        [0, 0, 0, ..., 0, 0, 0],\n",
              "        [0, 0, 0, ..., 0, 0, 0],\n",
              "        ...,\n",
              "        [0, 0, 0, ..., 0, 0, 0],\n",
              "        [0, 0, 0, ..., 0, 0, 0],\n",
              "        [0, 0, 0, ..., 0, 0, 0]]], dtype=uint8)"
            ]
          },
          "metadata": {},
          "execution_count": 25
        }
      ]
    },
    {
      "cell_type": "code",
      "source": [
        "#x_train[0] refers to the first image in the x_train array.\n",
        "x_train[0]"
      ],
      "metadata": {
        "id": "BOkaOv9uu1IH",
        "outputId": "98083c87-ab05-49af-e9f8-5c87fa1f2e6e",
        "colab": {
          "base_uri": "https://localhost:8080/"
        }
      },
      "id": "BOkaOv9uu1IH",
      "execution_count": 26,
      "outputs": [
        {
          "output_type": "execute_result",
          "data": {
            "text/plain": [
              "array([[  0,   0,   0,   0,   0,   0,   0,   0,   0,   0,   0,   0,   0,\n",
              "          0,   0,   0,   0,   0,   0,   0,   0,   0,   0,   0,   0,   0,\n",
              "          0,   0],\n",
              "       [  0,   0,   0,   0,   0,   0,   0,   0,   0,   0,   0,   0,   0,\n",
              "          0,   0,   0,   0,   0,   0,   0,   0,   0,   0,   0,   0,   0,\n",
              "          0,   0],\n",
              "       [  0,   0,   0,   0,   0,   0,   0,   0,   0,   0,   0,   0,   0,\n",
              "          0,   0,   0,   0,   0,   0,   0,   0,   0,   0,   0,   0,   0,\n",
              "          0,   0],\n",
              "       [  0,   0,   0,   0,   0,   0,   0,   0,   0,   0,   0,   0,   0,\n",
              "          0,   0,   0,   0,   0,   0,   0,   0,   0,   0,   0,   0,   0,\n",
              "          0,   0],\n",
              "       [  0,   0,   0,   0,   0,   0,   0,   0,   0,   0,   0,   0,   0,\n",
              "          0,   0,   0,   0,   0,   0,   0,   0,   0,   0,   0,   0,   0,\n",
              "          0,   0],\n",
              "       [  0,   0,   0,   0,   0,   0,   0,   0,   0,   0,   0,   0,   3,\n",
              "         18,  18,  18, 126, 136, 175,  26, 166, 255, 247, 127,   0,   0,\n",
              "          0,   0],\n",
              "       [  0,   0,   0,   0,   0,   0,   0,   0,  30,  36,  94, 154, 170,\n",
              "        253, 253, 253, 253, 253, 225, 172, 253, 242, 195,  64,   0,   0,\n",
              "          0,   0],\n",
              "       [  0,   0,   0,   0,   0,   0,   0,  49, 238, 253, 253, 253, 253,\n",
              "        253, 253, 253, 253, 251,  93,  82,  82,  56,  39,   0,   0,   0,\n",
              "          0,   0],\n",
              "       [  0,   0,   0,   0,   0,   0,   0,  18, 219, 253, 253, 253, 253,\n",
              "        253, 198, 182, 247, 241,   0,   0,   0,   0,   0,   0,   0,   0,\n",
              "          0,   0],\n",
              "       [  0,   0,   0,   0,   0,   0,   0,   0,  80, 156, 107, 253, 253,\n",
              "        205,  11,   0,  43, 154,   0,   0,   0,   0,   0,   0,   0,   0,\n",
              "          0,   0],\n",
              "       [  0,   0,   0,   0,   0,   0,   0,   0,   0,  14,   1, 154, 253,\n",
              "         90,   0,   0,   0,   0,   0,   0,   0,   0,   0,   0,   0,   0,\n",
              "          0,   0],\n",
              "       [  0,   0,   0,   0,   0,   0,   0,   0,   0,   0,   0, 139, 253,\n",
              "        190,   2,   0,   0,   0,   0,   0,   0,   0,   0,   0,   0,   0,\n",
              "          0,   0],\n",
              "       [  0,   0,   0,   0,   0,   0,   0,   0,   0,   0,   0,  11, 190,\n",
              "        253,  70,   0,   0,   0,   0,   0,   0,   0,   0,   0,   0,   0,\n",
              "          0,   0],\n",
              "       [  0,   0,   0,   0,   0,   0,   0,   0,   0,   0,   0,   0,  35,\n",
              "        241, 225, 160, 108,   1,   0,   0,   0,   0,   0,   0,   0,   0,\n",
              "          0,   0],\n",
              "       [  0,   0,   0,   0,   0,   0,   0,   0,   0,   0,   0,   0,   0,\n",
              "         81, 240, 253, 253, 119,  25,   0,   0,   0,   0,   0,   0,   0,\n",
              "          0,   0],\n",
              "       [  0,   0,   0,   0,   0,   0,   0,   0,   0,   0,   0,   0,   0,\n",
              "          0,  45, 186, 253, 253, 150,  27,   0,   0,   0,   0,   0,   0,\n",
              "          0,   0],\n",
              "       [  0,   0,   0,   0,   0,   0,   0,   0,   0,   0,   0,   0,   0,\n",
              "          0,   0,  16,  93, 252, 253, 187,   0,   0,   0,   0,   0,   0,\n",
              "          0,   0],\n",
              "       [  0,   0,   0,   0,   0,   0,   0,   0,   0,   0,   0,   0,   0,\n",
              "          0,   0,   0,   0, 249, 253, 249,  64,   0,   0,   0,   0,   0,\n",
              "          0,   0],\n",
              "       [  0,   0,   0,   0,   0,   0,   0,   0,   0,   0,   0,   0,   0,\n",
              "          0,  46, 130, 183, 253, 253, 207,   2,   0,   0,   0,   0,   0,\n",
              "          0,   0],\n",
              "       [  0,   0,   0,   0,   0,   0,   0,   0,   0,   0,   0,   0,  39,\n",
              "        148, 229, 253, 253, 253, 250, 182,   0,   0,   0,   0,   0,   0,\n",
              "          0,   0],\n",
              "       [  0,   0,   0,   0,   0,   0,   0,   0,   0,   0,  24, 114, 221,\n",
              "        253, 253, 253, 253, 201,  78,   0,   0,   0,   0,   0,   0,   0,\n",
              "          0,   0],\n",
              "       [  0,   0,   0,   0,   0,   0,   0,   0,  23,  66, 213, 253, 253,\n",
              "        253, 253, 198,  81,   2,   0,   0,   0,   0,   0,   0,   0,   0,\n",
              "          0,   0],\n",
              "       [  0,   0,   0,   0,   0,   0,  18, 171, 219, 253, 253, 253, 253,\n",
              "        195,  80,   9,   0,   0,   0,   0,   0,   0,   0,   0,   0,   0,\n",
              "          0,   0],\n",
              "       [  0,   0,   0,   0,  55, 172, 226, 253, 253, 253, 253, 244, 133,\n",
              "         11,   0,   0,   0,   0,   0,   0,   0,   0,   0,   0,   0,   0,\n",
              "          0,   0],\n",
              "       [  0,   0,   0,   0, 136, 253, 253, 253, 212, 135, 132,  16,   0,\n",
              "          0,   0,   0,   0,   0,   0,   0,   0,   0,   0,   0,   0,   0,\n",
              "          0,   0],\n",
              "       [  0,   0,   0,   0,   0,   0,   0,   0,   0,   0,   0,   0,   0,\n",
              "          0,   0,   0,   0,   0,   0,   0,   0,   0,   0,   0,   0,   0,\n",
              "          0,   0],\n",
              "       [  0,   0,   0,   0,   0,   0,   0,   0,   0,   0,   0,   0,   0,\n",
              "          0,   0,   0,   0,   0,   0,   0,   0,   0,   0,   0,   0,   0,\n",
              "          0,   0],\n",
              "       [  0,   0,   0,   0,   0,   0,   0,   0,   0,   0,   0,   0,   0,\n",
              "          0,   0,   0,   0,   0,   0,   0,   0,   0,   0,   0,   0,   0,\n",
              "          0,   0]], dtype=uint8)"
            ]
          },
          "metadata": {},
          "execution_count": 26
        }
      ]
    },
    {
      "cell_type": "code",
      "source": [
        "x_train[0].shape #28  by 28 gray scale image."
      ],
      "metadata": {
        "id": "x2hVaq7gvy1M",
        "outputId": "5811e07d-8b58-4d5b-d323-599c6176e9e4",
        "colab": {
          "base_uri": "https://localhost:8080/"
        }
      },
      "id": "x2hVaq7gvy1M",
      "execution_count": 27,
      "outputs": [
        {
          "output_type": "execute_result",
          "data": {
            "text/plain": [
              "(28, 28)"
            ]
          },
          "metadata": {},
          "execution_count": 27
        }
      ]
    },
    {
      "cell_type": "code",
      "source": [
        "#The dimensions of a grayscale image refer to its width and height.\n",
        "# a 28x28 matrix, which can be interpreted as a grayscale image with 28 rows and 28 columns. Each element in the matrix corresponds to the intensity value of a pixel in the image."
      ],
      "metadata": {
        "id": "JRq0QjPftw5T"
      },
      "id": "JRq0QjPftw5T",
      "execution_count": null,
      "outputs": []
    },
    {
      "cell_type": "code",
      "source": [
        "y_train[0]"
      ],
      "metadata": {
        "id": "TVBAh2_BwIL4",
        "outputId": "ab359662-b16b-4de3-d3c6-ad445785649c",
        "colab": {
          "base_uri": "https://localhost:8080/"
        }
      },
      "id": "TVBAh2_BwIL4",
      "execution_count": 28,
      "outputs": [
        {
          "output_type": "execute_result",
          "data": {
            "text/plain": [
              "5"
            ]
          },
          "metadata": {},
          "execution_count": 28
        }
      ]
    },
    {
      "cell_type": "code",
      "source": [
        "y_train"
      ],
      "metadata": {
        "id": "M6pgxXlP2iox",
        "outputId": "559fb619-d728-4f42-c409-016bd1707bca",
        "colab": {
          "base_uri": "https://localhost:8080/"
        }
      },
      "id": "M6pgxXlP2iox",
      "execution_count": 29,
      "outputs": [
        {
          "output_type": "execute_result",
          "data": {
            "text/plain": [
              "array([5, 0, 4, ..., 5, 6, 8], dtype=uint8)"
            ]
          },
          "metadata": {},
          "execution_count": 29
        }
      ]
    },
    {
      "cell_type": "code",
      "source": [
        "y_train.shape"
      ],
      "metadata": {
        "id": "pKr1MPRz2nwt",
        "outputId": "61c37be6-5276-49db-f690-632c4fa374b7",
        "colab": {
          "base_uri": "https://localhost:8080/"
        }
      },
      "id": "pKr1MPRz2nwt",
      "execution_count": 30,
      "outputs": [
        {
          "output_type": "execute_result",
          "data": {
            "text/plain": [
              "(60000,)"
            ]
          },
          "metadata": {},
          "execution_count": 30
        }
      ]
    },
    {
      "cell_type": "code",
      "source": [
        "x_train.shape"
      ],
      "metadata": {
        "id": "2kOgJdoG2upf",
        "outputId": "a6c288b3-cdd9-45e3-812c-cef33d46e5d9",
        "colab": {
          "base_uri": "https://localhost:8080/"
        }
      },
      "id": "2kOgJdoG2upf",
      "execution_count": 31,
      "outputs": [
        {
          "output_type": "execute_result",
          "data": {
            "text/plain": [
              "(60000, 28, 28)"
            ]
          },
          "metadata": {},
          "execution_count": 31
        }
      ]
    },
    {
      "cell_type": "code",
      "source": [
        "x_train.shape[0]"
      ],
      "metadata": {
        "id": "TU8KBmBw3hQA",
        "outputId": "d157ed35-dbea-40b2-95ea-ea0f334df855",
        "colab": {
          "base_uri": "https://localhost:8080/"
        }
      },
      "id": "TU8KBmBw3hQA",
      "execution_count": 32,
      "outputs": [
        {
          "output_type": "execute_result",
          "data": {
            "text/plain": [
              "60000"
            ]
          },
          "metadata": {},
          "execution_count": 32
        }
      ]
    },
    {
      "cell_type": "code",
      "source": [
        "28*28"
      ],
      "metadata": {
        "id": "nSZwhWqm3vc2",
        "outputId": "ae8f575a-f045-4283-b22e-ce80bbd8de34",
        "colab": {
          "base_uri": "https://localhost:8080/"
        }
      },
      "id": "nSZwhWqm3vc2",
      "execution_count": 33,
      "outputs": [
        {
          "output_type": "execute_result",
          "data": {
            "text/plain": [
              "784"
            ]
          },
          "metadata": {},
          "execution_count": 33
        }
      ]
    },
    {
      "cell_type": "code",
      "source": [
        "XXX = np.reshape(x_train, (x_train.shape[0], 784))"
      ],
      "metadata": {
        "id": "EK0rs3IP3bUp"
      },
      "id": "EK0rs3IP3bUp",
      "execution_count": null,
      "outputs": []
    },
    {
      "cell_type": "code",
      "source": [
        "XXX.shape"
      ],
      "metadata": {
        "id": "bfDqtgW23sF0",
        "outputId": "02deec05-290d-4b13-8d47-48145e623c18",
        "colab": {
          "base_uri": "https://localhost:8080/"
        }
      },
      "id": "bfDqtgW23sF0",
      "execution_count": null,
      "outputs": [
        {
          "output_type": "execute_result",
          "data": {
            "text/plain": [
              "(60000, 784)"
            ]
          },
          "metadata": {},
          "execution_count": 36
        }
      ]
    },
    {
      "cell_type": "code",
      "source": [
        "XXX[0]"
      ],
      "metadata": {
        "id": "I9_zrWip3dy4",
        "outputId": "538ee321-176b-4fe8-a0cc-1b78973b2766",
        "colab": {
          "base_uri": "https://localhost:8080/"
        }
      },
      "id": "I9_zrWip3dy4",
      "execution_count": null,
      "outputs": [
        {
          "output_type": "execute_result",
          "data": {
            "text/plain": [
              "array([  0,   0,   0,   0,   0,   0,   0,   0,   0,   0,   0,   0,   0,\n",
              "         0,   0,   0,   0,   0,   0,   0,   0,   0,   0,   0,   0,   0,\n",
              "         0,   0,   0,   0,   0,   0,   0,   0,   0,   0,   0,   0,   0,\n",
              "         0,   0,   0,   0,   0,   0,   0,   0,   0,   0,   0,   0,   0,\n",
              "         0,   0,   0,   0,   0,   0,   0,   0,   0,   0,   0,   0,   0,\n",
              "         0,   0,   0,   0,   0,   0,   0,   0,   0,   0,   0,   0,   0,\n",
              "         0,   0,   0,   0,   0,   0,   0,   0,   0,   0,   0,   0,   0,\n",
              "         0,   0,   0,   0,   0,   0,   0,   0,   0,   0,   0,   0,   0,\n",
              "         0,   0,   0,   0,   0,   0,   0,   0,   0,   0,   0,   0,   0,\n",
              "         0,   0,   0,   0,   0,   0,   0,   0,   0,   0,   0,   0,   0,\n",
              "         0,   0,   0,   0,   0,   0,   0,   0,   0,   0,   0,   0,   0,\n",
              "         0,   0,   0,   0,   0,   0,   0,   0,   0,   3,  18,  18,  18,\n",
              "       126, 136, 175,  26, 166, 255, 247, 127,   0,   0,   0,   0,   0,\n",
              "         0,   0,   0,   0,   0,   0,   0,  30,  36,  94, 154, 170, 253,\n",
              "       253, 253, 253, 253, 225, 172, 253, 242, 195,  64,   0,   0,   0,\n",
              "         0,   0,   0,   0,   0,   0,   0,   0,  49, 238, 253, 253, 253,\n",
              "       253, 253, 253, 253, 253, 251,  93,  82,  82,  56,  39,   0,   0,\n",
              "         0,   0,   0,   0,   0,   0,   0,   0,   0,   0,  18, 219, 253,\n",
              "       253, 253, 253, 253, 198, 182, 247, 241,   0,   0,   0,   0,   0,\n",
              "         0,   0,   0,   0,   0,   0,   0,   0,   0,   0,   0,   0,   0,\n",
              "        80, 156, 107, 253, 253, 205,  11,   0,  43, 154,   0,   0,   0,\n",
              "         0,   0,   0,   0,   0,   0,   0,   0,   0,   0,   0,   0,   0,\n",
              "         0,   0,   0,  14,   1, 154, 253,  90,   0,   0,   0,   0,   0,\n",
              "         0,   0,   0,   0,   0,   0,   0,   0,   0,   0,   0,   0,   0,\n",
              "         0,   0,   0,   0,   0,   0,   0, 139, 253, 190,   2,   0,   0,\n",
              "         0,   0,   0,   0,   0,   0,   0,   0,   0,   0,   0,   0,   0,\n",
              "         0,   0,   0,   0,   0,   0,   0,   0,   0,  11, 190, 253,  70,\n",
              "         0,   0,   0,   0,   0,   0,   0,   0,   0,   0,   0,   0,   0,\n",
              "         0,   0,   0,   0,   0,   0,   0,   0,   0,   0,   0,   0,  35,\n",
              "       241, 225, 160, 108,   1,   0,   0,   0,   0,   0,   0,   0,   0,\n",
              "         0,   0,   0,   0,   0,   0,   0,   0,   0,   0,   0,   0,   0,\n",
              "         0,   0,  81, 240, 253, 253, 119,  25,   0,   0,   0,   0,   0,\n",
              "         0,   0,   0,   0,   0,   0,   0,   0,   0,   0,   0,   0,   0,\n",
              "         0,   0,   0,   0,   0,  45, 186, 253, 253, 150,  27,   0,   0,\n",
              "         0,   0,   0,   0,   0,   0,   0,   0,   0,   0,   0,   0,   0,\n",
              "         0,   0,   0,   0,   0,   0,   0,   0,  16,  93, 252, 253, 187,\n",
              "         0,   0,   0,   0,   0,   0,   0,   0,   0,   0,   0,   0,   0,\n",
              "         0,   0,   0,   0,   0,   0,   0,   0,   0,   0,   0,   0, 249,\n",
              "       253, 249,  64,   0,   0,   0,   0,   0,   0,   0,   0,   0,   0,\n",
              "         0,   0,   0,   0,   0,   0,   0,   0,   0,   0,   0,  46, 130,\n",
              "       183, 253, 253, 207,   2,   0,   0,   0,   0,   0,   0,   0,   0,\n",
              "         0,   0,   0,   0,   0,   0,   0,   0,   0,   0,   0,  39, 148,\n",
              "       229, 253, 253, 253, 250, 182,   0,   0,   0,   0,   0,   0,   0,\n",
              "         0,   0,   0,   0,   0,   0,   0,   0,   0,   0,   0,  24, 114,\n",
              "       221, 253, 253, 253, 253, 201,  78,   0,   0,   0,   0,   0,   0,\n",
              "         0,   0,   0,   0,   0,   0,   0,   0,   0,   0,   0,  23,  66,\n",
              "       213, 253, 253, 253, 253, 198,  81,   2,   0,   0,   0,   0,   0,\n",
              "         0,   0,   0,   0,   0,   0,   0,   0,   0,   0,   0,  18, 171,\n",
              "       219, 253, 253, 253, 253, 195,  80,   9,   0,   0,   0,   0,   0,\n",
              "         0,   0,   0,   0,   0,   0,   0,   0,   0,   0,   0,  55, 172,\n",
              "       226, 253, 253, 253, 253, 244, 133,  11,   0,   0,   0,   0,   0,\n",
              "         0,   0,   0,   0,   0,   0,   0,   0,   0,   0,   0,   0,   0,\n",
              "       136, 253, 253, 253, 212, 135, 132,  16,   0,   0,   0,   0,   0,\n",
              "         0,   0,   0,   0,   0,   0,   0,   0,   0,   0,   0,   0,   0,\n",
              "         0,   0,   0,   0,   0,   0,   0,   0,   0,   0,   0,   0,   0,\n",
              "         0,   0,   0,   0,   0,   0,   0,   0,   0,   0,   0,   0,   0,\n",
              "         0,   0,   0,   0,   0,   0,   0,   0,   0,   0,   0,   0,   0,\n",
              "         0,   0,   0,   0,   0,   0,   0,   0,   0,   0,   0,   0,   0,\n",
              "         0,   0,   0,   0,   0,   0,   0,   0,   0,   0,   0,   0,   0,\n",
              "         0,   0,   0,   0,   0,   0,   0,   0,   0,   0,   0,   0,   0,\n",
              "         0,   0,   0,   0], dtype=uint8)"
            ]
          },
          "metadata": {},
          "execution_count": 37
        }
      ]
    },
    {
      "cell_type": "markdown",
      "source": [
        "In the code snippet you provided, the shape of x_train is (60000, 28, 28), which indicates a 3D array rather than a 2D array. Each element in x_train represents a pixel value of an image.\n",
        "\n",
        "In the given code, the reshaping operation is performed to transform the 3D array into a 2D array. The line x_train = np.reshape(x_train, (x_train.shape[0], 784)) reshapes the array by keeping the first dimension intact (x_train.shape[0] refers to the number of images, which is 60000 in this case) and combining the second and third dimensions into a single dimension of size 784.\n",
        "\n",
        "By performing this reshaping operation, each image in x_train is flattened into a 1D array of length 784, representing a vectorized version of the image. This vectorization simplifies the input representation and makes it compatible with certain machine learning models that expect a 1D input.\n",
        "\n",
        "So, to clarify, the reshaping operation in this code snippet transforms the 3D array x_train into a 2D array where each row represents a flattened image with 784 pixel values."
      ],
      "metadata": {
        "id": "F6zJPc-t4eeN"
      },
      "id": "F6zJPc-t4eeN"
    },
    {
      "cell_type": "code",
      "execution_count": 34,
      "id": "58d47bc1-37cf-49ed-9a32-4e93854fdbbd",
      "metadata": {
        "id": "58d47bc1-37cf-49ed-9a32-4e93854fdbbd"
      },
      "outputs": [],
      "source": [
        "def loadDatasets():\n",
        "    (x_train, y_train), (x_test, y_test) = tf.keras.datasets.mnist.load_data()\n",
        "    x_train = np.reshape(x_train, (x_train.shape[0], 784)) /255.0\n",
        "    #np.reshape(x_train, (x_train.shape[0], 784)) reshapes x_train into a 2-dimensional array with dimensions (60000, 784).\n",
        "    #. Here, x_train.shape[0] corresponds to the number of samples in the dataset, which is 60000,\n",
        "    #784 represents the number of features or input dimensions in each sample.\n",
        "    #Reshaping the array in this way flattens each image, transforming it from a 2D grid of size 28x28 to a 1D vector of size 784. \n",
        "    #This transformation is often done to facilitate further processing or to match the expected input shape of a machine learning model.\n",
        "    #the division by 255.0 in the expression np.reshape(x_train, (x_train.shape[0], 784))/255.0 is likely performed to normalize the pixel values.\n",
        "    # Dividing by 255 scales the pixel values to the range of 0 to 1, which is a common practice in image processing and machine learning tasks.\n",
        "\n",
        "    y_train = tf.keras.utils.to_categorical(y_train)\n",
        "\n",
        "\n",
        "    x_test = np.reshape(x_test, (x_test.shape[0], 784))/255.0\n",
        "    y_test = tf.keras.utils.to_categorical(y_test)\n",
        "    \n",
        "    print(\"X Train Datasets Shape: {}\".format(x_train.shape))\n",
        "    print(\"Y test Data {}\".format(y_test))\n",
        "    print(\"Len of Y test Datasets: {}\".format(len(y_test[0])))\n",
        "    print(\"Unique value is : {}\".format(np.argmax(y_test[1])))\n",
        "    \n",
        "    return (x_train, y_train), (x_test, y_test)\n",
        "\n",
        "\n",
        "\n",
        "\n",
        "\n",
        " "
      ]
    },
    {
      "cell_type": "markdown",
      "source": [
        "The transformation of a 2D grid of size 28x28 to a 1D vector of size 784 is often done to facilitate further processing or to match the expected input shape of a machine learning model. Here are a few reasons why this transformation is performed:\n",
        "\n",
        "Consistent Input Shape: Many machine learning algorithms and models, such as fully connected neural networks, expect the input data to be in the form of a vector. By reshaping the input images into a 1D vector, we ensure that all images have a consistent input shape, regardless of their original dimensions. This allows the model to process the data efficiently.\n",
        "\n",
        "Feature Extraction: In image processing and computer vision tasks, the individual pixels of an image often carry important information. By reshaping the image into a 1D vector, we create a feature vector where each element represents the intensity value of a specific pixel. This allows the model to learn and extract patterns or features from the images.\n",
        "\n",
        "Dimensionality Reduction: Reshaping the image into a 1D vector reduces the dimensionality of the input. This can be beneficial in cases where the original 2D structure of the image is not essential for the task at hand, or when dealing with limited computational resources. Dimensionality reduction can help reduce the complexity of the model and speed up the training process.\n",
        "\n",
        "Compatibility with Existing Models: Pre-trained models or libraries often expect inputs in a specific format. By reshaping the images into a 1D vector, we can make them compatible with existing models or utilize pre-trained models that are designed to work with flattened input data.\n",
        "\n",
        "Overall, the transformation from a 2D grid to a 1D vector is a common preprocessing step in image-related machine learning tasks. It allows for easier data manipulation, compatibility with various models, and efficient extraction of features from the images."
      ],
      "metadata": {
        "id": "r8Bb1YKc5PnS"
      },
      "id": "r8Bb1YKc5PnS"
    },
    {
      "cell_type": "markdown",
      "source": [
        "Normalization of pixel values is a common practice in image processing and machine learning tasks for several reasons:\n",
        "\n",
        "Improved Numerical Stability: Normalizing pixel values to a specific range, such as 0 to 1, helps improve numerical stability during computation. By scaling the values to a smaller range, it can prevent potential issues that may arise due to large or varying value ranges.\n",
        "\n",
        "Equal Weightage: Normalization ensures that each pixel contributes equally to the overall image representation. When pixel values are in different ranges, some pixels may dominate the learning process due to their larger values, while others may have a negligible impact. Normalization helps to balance the contribution of each pixel and ensures fair treatment during the learning process.\n",
        "\n",
        "Gradient Descent: Many machine learning algorithms, including neural networks, rely on gradient-based optimization techniques such as gradient descent to update model parameters. Normalizing pixel values can help the optimization process converge faster by providing a more well-behaved gradient landscape. It helps prevent the gradients from being dominated by large pixel values, which could slow down the learning process or cause instability.\n",
        "\n",
        "Model Agnosticism: Normalization makes the input data more agnostic to the specific characteristics of the model or algorithm being used. It allows the same normalized data to be fed into different models or algorithms without requiring model-specific adjustments. This can be particularly useful when comparing or combining results from different models or when using pre-trained models.\n",
        "\n",
        "Convergence and Performance: Normalization can help the model converge faster during training, leading to potentially better performance. It can help alleviate issues like vanishing or exploding gradients, which can hinder convergence and affect the overall learning process."
      ],
      "metadata": {
        "id": "Jj3oyEBX5Ubs"
      },
      "id": "Jj3oyEBX5Ubs"
    },
    {
      "cell_type": "markdown",
      "source": [
        "```python\n",
        "\n",
        "```\n",
        "In the context of image recognition tasks, such as MNIST, the target values represent the labels or categories of the images. For example, in the MNIST dataset, the target values represent the digits from 0 to 9.\n",
        "\n",
        "One-hot encoding is a way to represent categorical data where each category is converted into a binary vector. In the case of MNIST, there are 10 possible categories (digits 0 to 9), so each target value is converted into a binary vector of length 10.\n",
        "\n",
        "The purpose of one-hot encoding in image recognition tasks is to provide a suitable format for the output layer of a neural network model. Neural networks often use a softmax activation function in the output layer, which requires the target values to be in one-hot encoded format.\n",
        "\n",
        "By converting the target values to one-hot encoded vectors, the neural network can effectively learn to predict the correct category for each image. It provides a consistent representation of the target values that the model can work with during the training process.\n",
        "\n",
        "However, it's important to note that one-hot encoding is not always necessary for all types of classification tasks. Some classification problems may use different encoding schemes or may not require any encoding at all, depending on the specific requirements and the chosen model architecture.\n",
        "\n",
        "If you have a numerical target variable, you can still perform CNN classification without converting it to one-hot encoded vectors. You would need to adjust the output layer of your model accordingly to handle the numerical target values directly."
      ],
      "metadata": {
        "id": "YwQyPmRx8pms"
      },
      "id": "YwQyPmRx8pms"
    },
    {
      "cell_type": "markdown",
      "source": [
        "```\n",
        " ```\n",
        "\n",
        "  Let's dive deeper into why the numerical representation of labels may not be suitable for the softmax activation function in the output layer, using an example.\n",
        "\n",
        "Consider the MNIST dataset, where each image is a 28x28 grayscale image of a handwritten digit. The goal is to train a neural network model to recognize and classify these digits into one of the ten categories (digits 0 to 9).\n",
        "\n",
        "If we represent the labels using the numerical values from 0 to 9, we might have the following labels for a few images:\n",
        "\n",
        "Image 1: Label = 3\n",
        "Image 2: Label = 8\n",
        "Image 3: Label = 1\n",
        "To train a neural network model, we typically use one-hot encoding to transform these numerical labels into binary vectors. Let's apply one-hot encoding to these labels:\n",
        "\n",
        "Image 1: Label = [0, 0, 0, 1, 0, 0, 0, 0, 0, 0]\n",
        "Image 2: Label = [0, 0, 0, 0, 0, 0, 0, 0, 1, 0]\n",
        "Image 3: Label = [0, 1, 0, 0, 0, 0, 0, 0, 0, 0]\n",
        "Now, let's consider the softmax activation function, which is commonly used in the output layer of a neural network for multi-class classification tasks. The softmax function takes an input vector and produces an output vector where each element represents the probability of the input belonging to a specific class.\n",
        "\n",
        "In the case of the MNIST dataset, the output layer of the neural network would have ten neurons, one for each digit category (0 to 9). The softmax activation function ensures that the output values are non-negative and sum up to 1, representing probabilities.\n",
        "\n",
        "If we use the numerical labels directly, the output layer would receive a numerical value as the target, such as 3, 8, or 1. However, the softmax activation function expects the target values to be in the form of a probability distribution. It needs a consistent representation that assigns a probability to each class.\n",
        "\n",
        "By using one-hot encoding, we provide this consistent representation. Each label is transformed into a binary vector where the true class is indicated by 1 and all other positions have 0. The softmax activation function can then generate a probability distribution over the classes based on these one-hot encoded labels.\n",
        "\n",
        "For example, if we have an image of the digit 3, the corresponding label without one-hot encoding would be 3. However, after applying one-hot encoding, the label becomes [0, 0, 0, 1, 0, 0, 0, 0, 0, 0]. The softmax activation function can now assign a probability to each class, indicating the likelihood of the input image belonging to each digit category.\n",
        "\n",
        "In summary, the numerical representation of labels does not provide a suitable format for the softmax activation function in the output layer. By using one-hot encoding, we transform the labels into a consistent representation of probabilities for each class. This allows the neural network to learn and predict the probabilities of different classes accurately.\n",
        "\n",
        "I hope this example provides a detailed understanding of why the numerical representation may not be suitable and how one-hot encoding helps in generating a probability distribution over the classes. If you have any further questions, please feel free to ask."
      ],
      "metadata": {
        "id": "wbT8RUhOAWFJ"
      },
      "id": "wbT8RUhOAWFJ"
    },
    {
      "cell_type": "markdown",
      "source": [
        "```python\n",
        "\n",
        "The code snippet you provided is using the to_categorical function from the tf.keras.utils module to convert the labels in y_train into one-hot encoded vectors.\n",
        "\n",
        "One-hot encoding is a technique used to represent categorical variables as binary vectors. In this case, y_train likely contains class labels for a classification problem. By using to_categorical, each label is converted into a binary vector where the index corresponding to the label is set to 1, and all other indices are set to 0.\n",
        "\n",
        "Here's an example to illustrate the transformation:\n",
        "\n",
        "Before one-hot encoding:\n",
        "\n",
        "css\n",
        "Copy code\n",
        "y_train = [0, 1, 2, 1, 0]\n",
        "After applying to_categorical:\n",
        "\n",
        "makefile\n",
        "Copy code\n",
        "y_train = [[1, 0, 0],  # corresponds to class 0\n",
        "           [0, 1, 0],  # corresponds to class 1\n",
        "           [0, 0, 1],  # corresponds to class 2\n",
        "           [0, 1, 0],  # corresponds to class 1\n",
        "           [1, 0, 0]]  # corresponds to class 0\n",
        "The resulting y_train is a numpy array or TensorFlow tensor where each label is now represented as a one-hot encoded vector. This encoding is often used as the target variable format when training neural networks for multi-class classification tasks.\n",
        "\n",
        "Note that if y_train is already in one-hot encoded format, applying to_categorical would be unnecessary and may introduce undesired behavior.\n",
        "```"
      ],
      "metadata": {
        "id": "wS17aGxKApWO"
      },
      "id": "wS17aGxKApWO"
    },
    {
      "cell_type": "code",
      "source": [
        "\n",
        "\n",
        "def plot_random_sample(x, y, p = None):\n",
        "    indicies = np.random.choice(range(0,  x.shape[0]), 10)\n",
        "    y = np.argmax(y, axis=1)\n",
        "    \n",
        "    if p is None:\n",
        "        p = y\n",
        "        \n",
        "    plt.figure(figsize=(10, 4))\n",
        "    for i, index in enumerate(indicies):\n",
        "        plt.subplot(2, 5, i+1)\n",
        "        plt.imshow(x[index].reshape((28, 28)), cmap = 'binary')\n",
        "        plt.xticks([])\n",
        "        plt.yticks([])\n",
        "        plt.gray()\n",
        "        \n",
        "        if y[index] == p[index]:\n",
        "            col = 'g'\n",
        "        else:\n",
        "            col = 'r'\n",
        "        plt.xlabel(str(p[index]), color = col)\n",
        "        \n",
        "    return plt"
      ],
      "metadata": {
        "id": "ukboGWQhA3UB"
      },
      "id": "ukboGWQhA3UB",
      "execution_count": 35,
      "outputs": []
    },
    {
      "cell_type": "markdown",
      "source": [
        "```python\n",
        "\n",
        "Certainly! Let's go through the plot_random_sample function step by step:\n",
        "\n",
        "Step 1: Randomly select indices\n",
        "\n",
        "python\n",
        "Copy code\n",
        "indicies = np.random.choice(range(0, x.shape[0]), 10)\n",
        "This line randomly selects 10 indices from the range of 0 to the number of data points in x. It uses the np.random.choice function from NumPy to perform the random selection without replacement.\n",
        "\n",
        "Step 2: Convert one-hot encoded labels to class indices\n",
        "\n",
        "python\n",
        "Copy code\n",
        "y = np.argmax(y, axis=1)\n",
        "The argmax function is applied to y along axis=1. This operation returns the indices of the maximum values along the second dimension. It is used to convert one-hot encoded labels into their corresponding class indices.\n",
        "\n",
        "Step 3: Check if p is None and assign y if so\n",
        "\n",
        "python\n",
        "Copy code\n",
        "if p is None:\n",
        "    p = y\n",
        "This condition checks if the variable p is None. If it is None, it means that no predicted labels have been provided, so p is assigned the value of y (the true labels).\n",
        "\n",
        "Step 4: Create a figure for plotting\n",
        "\n",
        "python\n",
        "Copy code\n",
        "plt.figure(figsize=(10, 4))\n",
        "This line creates a new figure for plotting the subplots. The figsize parameter specifies the size of the figure, with a width of 10 inches and a height of 4 inches.\n",
        "\n",
        "Step 5: Plot each image and label in subplots\n",
        "\n",
        "python\n",
        "Copy code\n",
        "for i, index in enumerate(indicies):\n",
        "    plt.subplot(2, 5, i+1)\n",
        "    plt.imshow(x[index].reshape((28, 28)), cmap='binary')\n",
        "    plt.xticks([])\n",
        "    plt.yticks([])\n",
        "    plt.gray()\n",
        "    \n",
        "    if y[index] == p[index]:\n",
        "        col = 'g'\n",
        "    else:\n",
        "        col = 'r'\n",
        "    plt.xlabel(str(p[index]), color=col)\n",
        "This loop iterates over each index selected in indicies. It sets up a subplot with plt.subplot(2, 5, i+1), which creates a 2x5 grid of subplots, and i+1 determines the position of each subplot within the grid.\n",
        "\n",
        "Inside the loop, it plots the image corresponding to the data point at the selected index using plt.imshow. The cmap='binary' parameter specifies that the image should be displayed in black and white.\n",
        "\n",
        "plt.xticks([]) and plt.yticks([]) remove the tick marks on the x and y axes.\n",
        "\n",
        "plt.gray() sets the color scheme of the plot to grayscale.\n",
        "\n",
        "Based on whether the true label (y[index]) matches the predicted label (p[index]), the label is displayed as text using plt.xlabel. If the labels match, the text color is set to green (col = 'g'), and if they don't match, the text color is set to red (col = 'r').\n",
        "\n",
        "Step 6: Return the plot\n",
        "\n",
        "python\n",
        "Copy code\n",
        "return plt\n",
        "The function returns the plt object, which contains the plotted figure.\n",
        "\n",
        "After calling the plot_random_sample function, you can display the plot by calling plt.show() or save it to a file using plt.savefig().\n",
        "```"
      ],
      "metadata": {
        "id": "WKD7M6-1BMfs"
      },
      "id": "WKD7M6-1BMfs"
    },
    {
      "cell_type": "code",
      "source": [],
      "metadata": {
        "id": "3yA5N8OGApBr"
      },
      "id": "3yA5N8OGApBr",
      "execution_count": 35,
      "outputs": []
    },
    {
      "cell_type": "code",
      "execution_count": 36,
      "id": "971ee8dc-53e1-40f2-b369-8be25d57bc8e",
      "metadata": {
        "colab": {
          "base_uri": "https://localhost:8080/"
        },
        "id": "971ee8dc-53e1-40f2-b369-8be25d57bc8e",
        "outputId": "54ce81be-944e-4cd7-b04a-35a308f11f2f"
      },
      "outputs": [
        {
          "output_type": "stream",
          "name": "stdout",
          "text": [
            "X Train Datasets Shape: (60000, 784)\n",
            "Y test Data [[0. 0. 0. ... 1. 0. 0.]\n",
            " [0. 0. 1. ... 0. 0. 0.]\n",
            " [0. 1. 0. ... 0. 0. 0.]\n",
            " ...\n",
            " [0. 0. 0. ... 0. 0. 0.]\n",
            " [0. 0. 0. ... 0. 0. 0.]\n",
            " [0. 0. 0. ... 0. 0. 0.]]\n",
            "Len of Y test Datasets: 10\n",
            "Unique value is : 2\n"
          ]
        }
      ],
      "source": [
        "(x_train, y_train), (x_test, y_test) = loadDatasets()"
      ]
    },
    {
      "cell_type": "code",
      "source": [
        "x_train.shape"
      ],
      "metadata": {
        "id": "JPzDmr0hCTNL",
        "outputId": "b07a8a54-930b-42a4-d17b-ddc8be0e5634",
        "colab": {
          "base_uri": "https://localhost:8080/"
        }
      },
      "id": "JPzDmr0hCTNL",
      "execution_count": 37,
      "outputs": [
        {
          "output_type": "execute_result",
          "data": {
            "text/plain": [
              "(60000, 784)"
            ]
          },
          "metadata": {},
          "execution_count": 37
        }
      ]
    },
    {
      "cell_type": "code",
      "source": [
        "x_train.shape[0]"
      ],
      "metadata": {
        "id": "DUVzXh23Cb15",
        "outputId": "c8d1fa67-0d73-48f3-bf10-8eb28232cec6",
        "colab": {
          "base_uri": "https://localhost:8080/"
        }
      },
      "id": "DUVzXh23Cb15",
      "execution_count": 38,
      "outputs": [
        {
          "output_type": "execute_result",
          "data": {
            "text/plain": [
              "60000"
            ]
          },
          "metadata": {},
          "execution_count": 38
        }
      ]
    },
    {
      "cell_type": "code",
      "execution_count": 39,
      "id": "a14bb538-26ee-43df-8474-f533e15cdd00",
      "metadata": {
        "colab": {
          "base_uri": "https://localhost:8080/",
          "height": 358
        },
        "id": "a14bb538-26ee-43df-8474-f533e15cdd00",
        "outputId": "2594b5c4-b5c7-4965-cdc0-1e409184e15d"
      },
      "outputs": [
        {
          "output_type": "display_data",
          "data": {
            "text/plain": [
              "<Figure size 1000x400 with 10 Axes>"
            ],
            "image/png": "[encoded data removed]"
          },
          "metadata": {}
        }
      ],
      "source": [
        "plot_random_sample(x_train, y_train).show()"
      ]
    },
    {
      "cell_type": "code",
      "execution_count": 40,
      "id": "2471a7d5-fdc3-4c25-8037-43b0bd451402",
      "metadata": {
        "id": "2471a7d5-fdc3-4c25-8037-43b0bd451402"
      },
      "outputs": [],
      "source": [
        "def plot_results(history):\n",
        "    plt.figure(figsize=(12, 4))\n",
        "    epochs = len(history['val_loss'])\n",
        "    plt.subplot(1, 2, 1)\n",
        "    plt.plot(range(epochs), history['val_loss'], label='Val Loss')\n",
        "    plt.plot(range(epochs), history['train_loss'], label='Train Loss')\n",
        "    plt.xticks(list(range(epochs)))\n",
        "    plt.xlabel('Epochs')\n",
        "    plt.ylabel('Loss')\n",
        "    plt.legend()\n",
        "    \n",
        "    \n",
        "    plt.subplot(1, 2, 2)\n",
        "    plt.plot(range(epochs), history['val_acc'], label='Val Acc')\n",
        "    plt.xticks(list(range(epochs)))\n",
        "    plt.xlabel('Epochs')\n",
        "    plt.ylabel('Accuracy')\n",
        "    plt.legend()\n",
        "    return plt"
      ]
    },
    {
      "cell_type": "code",
      "execution_count": 41,
      "id": "5053d279-8c43-485b-a7c2-114cf94a07b9",
      "metadata": {
        "colab": {
          "base_uri": "https://localhost:8080/",
          "height": 87
        },
        "id": "5053d279-8c43-485b-a7c2-114cf94a07b9",
        "outputId": "3e27a90f-0410-4284-d266-0fb0f8868a85"
      },
      "outputs": [
        {
          "output_type": "execute_result",
          "data": {
            "text/plain": [
              "' def __init__(self, layers):\\n        self.layers = layers\\n        self.L = len(layers)\\n        \\n        self.number_feature = layers[0] #1st layer --> input layer which contain number of features .\\n        self.number_class = layers[-1]  # last  layer --> output layer which contain number of class\\n        \\n        self.W = {}\\n        self.b = {}\\n        \\n        self.dw = {}\\n        self.db = {}\\n        \\n        self.setup()\\n    '"
            ],
            "application/vnd.google.colaboratory.intrinsic+json": {
              "type": "string"
            }
          },
          "metadata": {},
          "execution_count": 41
        }
      ],
      "source": [
        "#network = NeuralNetwork([784,256, 256, 10])# 28*28 # 1st 256 Neuron\n",
        "network = NeuralNetwork([784, 512, 512,256,256, 10])\n",
        "#this is call for following \n",
        "''' def __init__(self, layers):\n",
        "        self.layers = layers\n",
        "        self.L = len(layers)\n",
        "        \n",
        "        self.number_feature = layers[0] #1st layer --> input layer which contain number of features .\n",
        "        self.number_class = layers[-1]  # last  layer --> output layer which contain number of class\n",
        "        \n",
        "        self.W = {}\n",
        "        self.b = {}\n",
        "        \n",
        "        self.dw = {}\n",
        "        self.db = {}\n",
        "        \n",
        "        self.setup()\n",
        "    '''"
      ]
    },
    {
      "cell_type": "code",
      "execution_count": 42,
      "id": "990f225e-5d6f-469e-8182-1a73f300a670",
      "metadata": {
        "colab": {
          "base_uri": "https://localhost:8080/"
        },
        "id": "990f225e-5d6f-469e-8182-1a73f300a670",
        "outputId": "7b1adcdf-f177-46cf-9f87-7af1f7a9afc6"
      },
      "outputs": [
        {
          "output_type": "stream",
          "name": "stdout",
          "text": [
            "Number of Feaure: 784\n",
            "Total Number of Class is: 10 \n",
            "Hidden Layer information is: \n",
            "Layer: 1, Units 512\n",
            "Layer: 2, Units 512\n",
            "Layer: 3, Units 256\n",
            "Layer: 4, Units 256\n",
            "Total Number of parameters : 864266\n"
          ]
        }
      ],
      "source": [
        "network.info()"
      ]
    },
    {
      "cell_type": "code",
      "execution_count": 43,
      "id": "c6e12a40-e572-4606-a3de-5cc0f8c2575e",
      "metadata": {
        "id": "c6e12a40-e572-4606-a3de-5cc0f8c2575e"
      },
      "outputs": [],
      "source": [
        "batch_size = 60\n",
        "epochs = 30\n",
        "step_per_epochs = int(x_train.shape[0]/batch_size) # the formula for  steps_per_epoch = total_samples / batch_size\n"
      ]
    },
    {
      "cell_type": "code",
      "execution_count": 44,
      "id": "c707cb8f-eec3-4af3-90e6-92aec0e04c50",
      "metadata": {
        "id": "c707cb8f-eec3-4af3-90e6-92aec0e04c50"
      },
      "outputs": [],
      "source": [
        "#total_batches = ceil(total_samples / batch_size)\n"
      ]
    },
    {
      "cell_type": "markdown",
      "source": [
        "Please note that the steps_per_epoch parameter, mentioned in the previous response, is not the same as the total number of batches. steps_per_epoch represents the number of steps (batches) to yield from the dataset generator in one epoch, and it can be smaller or equal to the total number of batches, depending on your needs."
      ],
      "metadata": {
        "id": "-LJErU0aEymE"
      },
      "id": "-LJErU0aEymE"
    },
    {
      "cell_type": "code",
      "execution_count": 45,
      "id": "7ac22838-f009-4bbe-9434-c761279a0999",
      "metadata": {
        "colab": {
          "base_uri": "https://localhost:8080/"
        },
        "id": "7ac22838-f009-4bbe-9434-c761279a0999",
        "outputId": "ad486f78-3f9d-46f5-abd4-145ba92478c7"
      },
      "outputs": [
        {
          "output_type": "stream",
          "name": "stdout",
          "text": [
            "Epochs 0 |  .  .  .  .  .  .  .  .  .  . Value Accuracy:  0.833\n",
            "Epochs 1 |  .  .  .  .  .  .  .  .  .  . Value Accuracy:  0.8584\n",
            "Epochs 2 |  .  .  .  .  .  .  .  .  .  . Value Accuracy:  0.8696\n",
            "Epochs 3 |  .  .  .  .  .  .  .  .  .  . Value Accuracy:  0.8765\n",
            "Epochs 4 |  .  .  .  .  .  .  .  .  .  . Value Accuracy:  0.8839\n",
            "Epochs 5 |  .  .  .  .  .  .  .  .  .  . Value Accuracy:  0.8868\n",
            "Epochs 6 |  .  .  .  .  .  .  .  .  .  . Value Accuracy:  0.8913\n",
            "Epochs 7 |  .  .  .  .  .  .  .  .  .  . Value Accuracy:  0.8946\n",
            "Epochs 8 |  .  .  .  .  .  .  .  .  .  . Value Accuracy:  0.8958\n",
            "Epochs 9 |  .  .  .  .  .  .  .  .  .  . Value Accuracy:  0.8982\n",
            "Epochs 10 |  .  .  .  .  .  .  .  .  .  . Value Accuracy:  0.9002\n",
            "Epochs 11 |  .  .  .  .  .  .  .  .  .  . Value Accuracy:  0.9023\n",
            "Epochs 12 |  .  .  .  .  .  .  .  .  .  . Value Accuracy:  0.8992\n",
            "Epochs 13 |  .  .  .  .  .  .  .  .  .  . Value Accuracy:  0.9005\n",
            "Epochs 14 |  .  .  .  .  .  .  .  .  .  . Value Accuracy:  0.9044\n",
            "Epochs 15 |  .  .  .  .  .  .  .  .  .  . Value Accuracy:  0.902\n",
            "Epochs 16 |  .  .  .  .  .  .  .  .  .  . Value Accuracy:  0.9039\n",
            "Epochs 17 |  .  .  .  .  .  .  .  .  .  . Value Accuracy:  0.905\n",
            "Epochs 18 |  .  .  .  .  .  .  .  .  . Value Accuracy:  0.9052\n",
            "Epochs 19 |  .  .  .  .  .  .  .  .  .  . Value Accuracy:  0.9057\n",
            "Epochs 20 |  .  .  .  .  .  .  .  .  .  . Value Accuracy:  0.9079\n",
            "Epochs 21 |  .  .  .  .  .  .  .  .  .  . Value Accuracy:  0.9075\n",
            "Epochs 22 |  .  .  .  .  .  .  .  .  .  . Value Accuracy:  0.9061\n",
            "Epochs 23 |  .  .  .  .  .  .  .  .  .  . Value Accuracy:  0.9065\n",
            "Epochs 24 |  .  .  .  .  .  .  .  .  .  . Value Accuracy:  0.9078\n",
            "Epochs 25 |  .  .  .  .  .  .  .  .  .  . Value Accuracy:  0.9085\n",
            "Epochs 26 |  .  .  .  .  .  .  .  .  .  . Value Accuracy:  0.9088\n",
            "Epochs 27 |  .  .  .  .  .  .  .  .  .  . Value Accuracy:  0.9113\n",
            "Epochs 28 |  .  .  .  .  .  .  .  .  .  . Value Accuracy:  0.9087\n",
            "Epochs 29 |  .  .  .  .  .  .  .  .  .  . Value Accuracy:  0.91\n"
          ]
        }
      ],
      "source": [
        "learning_rate = 3e-6 #0.000003\n",
        "history = network.train(x_train, y_train, x_test, y_test, epochs, step_per_epochs, batch_size, learning_rate)"
      ]
    },
    {
      "cell_type": "code",
      "execution_count": null,
      "id": "d8cda733-d982-4a82-9987-bb540ff7294e",
      "metadata": {
        "id": "d8cda733-d982-4a82-9987-bb540ff7294e"
      },
      "outputs": [],
      "source": [
        "# learning_rate = 0.1\n",
        "# history = network.train(x_train, y_train, x_test, y_test, epochs, step_per_epochs, batch_size, learning_rate)"
      ]
    },
    {
      "cell_type": "code",
      "execution_count": 46,
      "id": "24c6efec-3094-414c-8e8d-fce3ca71af7b",
      "metadata": {
        "id": "24c6efec-3094-414c-8e8d-fce3ca71af7b",
        "outputId": "92e5816c-0c06-44db-8f7d-a87ee19ace5a",
        "colab": {
          "base_uri": "https://localhost:8080/",
          "height": 356
        }
      },
      "outputs": [
        {
          "output_type": "display_data",
          "data": {
            "text/plain": [
              "<Figure size 1200x400 with 2 Axes>"
            ],
            "image/png": "[encoded data removed]"
          },
          "metadata": {}
        }
      ],
      "source": [
        "plot_results(history).show()"
      ]
    },
    {
      "cell_type": "code",
      "execution_count": 47,
      "id": "7a41dcd1-b1d1-4591-959a-30e103326556",
      "metadata": {
        "id": "7a41dcd1-b1d1-4591-959a-30e103326556"
      },
      "outputs": [],
      "source": [
        "# def plot_results(history):\n",
        "#     plt.figure(figsize=(12, 4))\n",
        "#     epochs = len(history['val_loss'])\n",
        "#     plt.subplot(1, 2, 1)\n",
        "#     plt.plot(range(epochs), history['val_loss'], label='Val Loss')\n",
        "#     plt.plot(range(epochs), history['train_loss'], label='Train Loss')\n",
        "#     plt.xticks(list(range(epochs)))\n",
        "#     plt.xlabel('Epochs')\n",
        "#     plt.ylabel('Loss')\n",
        "#     plt.legend()\n",
        "    \n",
        "    \n",
        "#     plt.subplot(1, 2, 2)\n",
        "#     plt.plot(range(epochs), history['val_acc'], label='Val Acc')\n",
        "#     plt.xticks(list(range(epochs)))\n",
        "#     plt.xlabel('Epochs')\n",
        "#     plt.ylabel('Accuracy')\n",
        "#     plt.legend()\n",
        "#     return plt"
      ]
    },
    {
      "cell_type": "code",
      "source": [
        "# Assuming you have the trained network and test dataset available\n",
        "preds = network.predict(x_test)\n",
        "test_accuracy = np.mean(np.argmax(y_test, axis=1) == preds.numpy())\n",
        "\n",
        "print(\"Test Accuracy: {:.2%}\".format(test_accuracy))\n"
      ],
      "metadata": {
        "colab": {
          "base_uri": "https://localhost:8080/"
        },
        "id": "7ioTuuaigJJ9",
        "outputId": "34525573-3ed3-4246-fea5-a754a53cfd0e"
      },
      "id": "7ioTuuaigJJ9",
      "execution_count": 48,
      "outputs": [
        {
          "output_type": "stream",
          "name": "stdout",
          "text": [
            "Test Accuracy: 91.00%\n"
          ]
        }
      ]
    },
    {
      "cell_type": "code",
      "execution_count": 49,
      "id": "d6cc5d3f-f97d-4a5d-bf38-b40471c80672",
      "metadata": {
        "id": "d6cc5d3f-f97d-4a5d-bf38-b40471c80672",
        "outputId": "65a68762-e922-488b-ecfa-392d5477c1a4",
        "colab": {
          "base_uri": "https://localhost:8080/",
          "height": 358
        }
      },
      "outputs": [
        {
          "output_type": "display_data",
          "data": {
            "text/plain": [
              "<Figure size 1000x400 with 10 Axes>"
            ],
            "image/png": "[encoded data removed]"
          },
          "metadata": {}
        }
      ],
      "source": [
        "plot_random_sample(x_test, y_test, preds.numpy()).show()"
      ]
    },
    {
      "cell_type": "code",
      "execution_count": 49,
      "id": "87730a25-e715-48d8-9a2b-782d00f625a8",
      "metadata": {
        "id": "87730a25-e715-48d8-9a2b-782d00f625a8"
      },
      "outputs": [],
      "source": []
    }
  ],
  "metadata": {
    "kernelspec": {
      "display_name": "Python 3",
      "name": "python3"
    },
    "language_info": {
      "codemirror_mode": {
        "name": "ipython",
        "version": 3
      },
      "file_extension": ".py",
      "mimetype": "text/x-python",
      "name": "python",
      "nbconvert_exporter": "python",
      "pygments_lexer": "ipython3",
      "version": "3.7.13"
    },
    "colab": {
      "provenance": [],
      "gpuType": "T4",
      "toc_visible": true
    },
    "accelerator": "GPU"
  },
  "nbformat": 4,
  "nbformat_minor": 5
}